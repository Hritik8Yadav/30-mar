{
 "cells": [
  {
   "cell_type": "code",
   "execution_count": null,
   "id": "d960d60d-427f-45d2-97d9-c79b28ee87d9",
   "metadata": {},
   "outputs": [],
   "source": [
    "'''Ans1: Elastic regression is a type of regression in which both of the issue in regression which is feature \n",
    "         selection as well as the overfitting is resolved by using the techniques of both the lesso and the ridge\n",
    "         model. This is the model which the penalized values of the both lesso and the ridge model is added to the\n",
    "         cost function.\n",
    "         \n",
    "         It is different from the other models because it include the double penalized values while some models has\n",
    "         only one or non penalized values.\n",
    "'''"
   ]
  },
  {
   "cell_type": "code",
   "execution_count": null,
   "id": "d263578d-b069-4540-858e-2822a9a05413",
   "metadata": {},
   "outputs": [],
   "source": [
    "'''Ans2: The value of the regularization parameter for the elastic regression is calculated according to the \n",
    "         the value of the cost function. The random values of the hyperparameter is taken and then the value of \n",
    "         cost function is calculated along with the r values. Then the matrix is created which represents the \n",
    "         values of the cost function for different values of regularization parameter along with the r value.\n",
    "         \n",
    "         Then the value of the regularization parameter is selected from the matrix according to the values\n",
    "         of cost function and r values.\n",
    "'''"
   ]
  },
  {
   "cell_type": "code",
   "execution_count": null,
   "id": "804de690-b89e-44bb-bc24-e0951082b77a",
   "metadata": {},
   "outputs": [],
   "source": [
    "'''Ans3: The advantages of elastic regression are:\n",
    "            \n",
    "            i. It can reduce the multicollinearity of the model.\n",
    "            ii. It can reduce the overfitting in the model.\n",
    "            iii. It can help in feature selection.\n",
    "            \n",
    "        The disadvantages of elastic regression are:\n",
    "            \n",
    "            i. It require the extra time for hyperparameter tuning.\n",
    "            ii. It is not feasible on the high dimensional model.\n",
    "            iii. It is not able to capture the non linear relation.\n",
    "'''"
   ]
  },
  {
   "cell_type": "code",
   "execution_count": null,
   "id": "15a8fd01-28d3-4094-9edd-6a2a8fdf784b",
   "metadata": {},
   "outputs": [],
   "source": [
    "'''Ans4: The common uses of the elastic regression are:\n",
    "            \n",
    "            i. removal of Multicollinearity\n",
    "            ii. Feature Selection\n",
    "            iii. Prediction\n",
    "            iv. Overfitting Regularization\n",
    "            v. EDA\n",
    "            \n",
    "'''"
   ]
  },
  {
   "cell_type": "code",
   "execution_count": null,
   "id": "d84d929b-3f2a-4d78-a7f3-b3d8ba051889",
   "metadata": {},
   "outputs": [],
   "source": [
    "'''Ans5: The coefficient in the elastic regression model represents the effect of each feature on the predication\n",
    "         variable. The value of each coefficient is peanilized by the l1 and l2 hyperparameters which help to \n",
    "         reduce overfitting and feature selection. The value of each coefficent has magnitude and the direction.\n",
    "         \n",
    "         The magnitude represents that how much relevatant is that perticular model feature while the postive \n",
    "         maginitude represents that the feature is directly related to the predicted value while negative mangnitude\n",
    "         represents the model that the feature is inversly related to the predicted value.\n",
    "'''"
   ]
  },
  {
   "cell_type": "code",
   "execution_count": null,
   "id": "24fc7ca2-334b-4c69-98f1-0a0baef5c21f",
   "metadata": {},
   "outputs": [],
   "source": [
    "'''Ans6: There are multiple ways to handle the missing values in the elastic regression:\n",
    "            \n",
    "            Imputation: In this technuque the missing values are imputed with the central tendency in that perticular\n",
    "                        feature this is the most effective way to handle the missing values without making the change \n",
    "                        in the number of values count. There are generally three technique for the imputation.\n",
    "                        \n",
    "                            >> Mean Impuatation\n",
    "                            >> Median Imputation\n",
    "                            >> Mode Imputation\n",
    "            Deletion: In this technique the perticular row in which the data is missing is deleted and the dimension\n",
    "                      of the data is decreased which make the data more simplified. This technique is not very good\n",
    "                      as it can sometime make the data deficient.\n",
    "'''"
   ]
  },
  {
   "cell_type": "code",
   "execution_count": null,
   "id": "0f68668e-f311-4a94-8ed7-7894ea5ae8f0",
   "metadata": {},
   "outputs": [],
   "source": [
    "'''Ans7: The Elastic net regression can be used for the feature selection by setting the optimal value of the \n",
    "         hyper parameter which is l1. A peanilizing value is added to the cost function of the model and that\n",
    "         peanilizing value has hyperparameter and the mode of slope when the value of slope is multiplied by the\n",
    "         hyper parameter the higher is the value of the hyper parameter the lower will be the value of slope \n",
    "         when there is significant decrement of the slope magnitude then we can say it can be negligible.\n",
    "'''"
   ]
  },
  {
   "cell_type": "code",
   "execution_count": null,
   "id": "2d4d9e3f-e76f-4d08-aa62-257b0ae371f2",
   "metadata": {},
   "outputs": [],
   "source": [
    "'''Ans8: pickling is the technique used to convert the object or the class to the binary code so that other can\n",
    "         also use this model or object.\n",
    "         \n",
    "         Any model can be pickled using the pickle.dump after making a file with the extension .pkl this will convert\n",
    "         the model into the binary code and put it into the file\n",
    "         \n",
    "         While if we want to unpickle any file or load the pickle the file we can use the pickle.load function in the \n",
    "         python.\n",
    "'''"
   ]
  },
  {
   "cell_type": "code",
   "execution_count": null,
   "id": "af2a4a62-ec3e-4c1c-bdec-3e4c2b0fd4a0",
   "metadata": {},
   "outputs": [],
   "source": [
    "'''Ans9: The purpose of the pickling is to convert the trained model into the reusable binary code so that we\n",
    "         can do prediction accordingly. This is the most simple way to do prediction which make the code \n",
    "         reusability. The pickling model can be use any time when needed for any of the program by simply importing\n",
    "         the file in which the pickled model is dumped.\n",
    "'''"
   ]
  }
 ],
 "metadata": {
  "kernelspec": {
   "display_name": "Python 3 (ipykernel)",
   "language": "python",
   "name": "python3"
  },
  "language_info": {
   "codemirror_mode": {
    "name": "ipython",
    "version": 3
   },
   "file_extension": ".py",
   "mimetype": "text/x-python",
   "name": "python",
   "nbconvert_exporter": "python",
   "pygments_lexer": "ipython3",
   "version": "3.10.8"
  }
 },
 "nbformat": 4,
 "nbformat_minor": 5
}
